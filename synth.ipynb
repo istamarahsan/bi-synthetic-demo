{
 "cells": [
  {
   "cell_type": "markdown",
   "metadata": {},
   "source": [
    "**Fine-tuning a synthetic data model to generate synthetic data based on a 311 call center dataset using gretel_synthetics ACTGAN**\n",
    "\n",
    "This notebook is an example on how to fine-tune Gretel's open source synthetic data models to produce synthetic data that retains the statistical properties of our original data.\n",
    "\n",
    "In this example, we use [ACTGAN](https://docs.gretel.ai/create-synthetic-data/models/synthetics/gretel-actgan), a generative adversarial network which is best suited for tabular, structured numerical, high column count data.\n",
    "\n",
    "Steps\n",
    "1. Load the training data\n",
    "2. Create and configure model\n",
    "3. Train model on training data\n",
    "4. Sample synthetic data from the model\n",
    "5. Evaluate the quality of the synthetic output"
   ]
  },
  {
   "cell_type": "code",
   "execution_count": null,
   "metadata": {},
   "outputs": [],
   "source": [
    "# Import Pandas for importing and working with DataFrames\n",
    "import pandas as pd\n",
    "# Import ACTGAN from gretel_synthetics\n",
    "from gretel_synthetics.actgan import ACTGAN"
   ]
  },
  {
   "cell_type": "code",
   "execution_count": null,
   "metadata": {},
   "outputs": [],
   "source": [
    "# Load the training dataset as a Pandas DataFrame\n",
    "train_df = pd.read_csv(\"./data/311_call_center_10k.csv\")\n",
    "train_df.head()"
   ]
  },
  {
   "cell_type": "code",
   "execution_count": null,
   "metadata": {},
   "outputs": [],
   "source": [
    "# Create the model and specify configuration\n",
    "NUM_EPOCHS = 100\n",
    "model = ACTGAN(\n",
    "    verbose=True,\n",
    "    binary_encoder_cutoff=10, # use a binary encoder for data transforms if the cardinality of a column is below this value\n",
    "    auto_transform_datetimes=True,\n",
    "    epochs=NUM_EPOCHS,\n",
    ")"
   ]
  },
  {
   "cell_type": "code",
   "execution_count": null,
   "metadata": {},
   "outputs": [],
   "source": [
    "# Train the model on the training dataset\n",
    "model.fit(train_df)"
   ]
  },
  {
   "cell_type": "code",
   "execution_count": null,
   "metadata": {},
   "outputs": [],
   "source": [
    "# Sample synthetic data from the model\n",
    "syn_df = model.sample(100)\n",
    "syn_df.head()"
   ]
  },
  {
   "cell_type": "code",
   "execution_count": null,
   "metadata": {},
   "outputs": [],
   "source": [
    "# Save the generated data to a CSV file\n",
    "syn_df.to_csv(\"./out/syn.csv\");"
   ]
  },
  {
   "cell_type": "code",
   "execution_count": null,
   "metadata": {},
   "outputs": [],
   "source": [
    "import gretel_synthetics.utils.stats as stats"
   ]
  },
  {
   "cell_type": "code",
   "execution_count": null,
   "metadata": {},
   "outputs": [],
   "source": [
    "stats.calculate_correlation(train_df)"
   ]
  },
  {
   "cell_type": "code",
   "execution_count": null,
   "metadata": {},
   "outputs": [],
   "source": [
    "stats.calculate_correlation(syn_df)"
   ]
  }
 ],
 "metadata": {
  "kernelspec": {
   "display_name": "bi-synthetic-demo-oKe0pENI",
   "language": "python",
   "name": "python3"
  },
  "language_info": {
   "codemirror_mode": {
    "name": "ipython",
    "version": 3
   },
   "file_extension": ".py",
   "mimetype": "text/x-python",
   "name": "python",
   "nbconvert_exporter": "python",
   "pygments_lexer": "ipython3",
   "version": "3.9.13"
  }
 },
 "nbformat": 4,
 "nbformat_minor": 2
}
